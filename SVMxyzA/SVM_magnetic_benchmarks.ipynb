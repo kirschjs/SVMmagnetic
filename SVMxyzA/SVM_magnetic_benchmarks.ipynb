{
 "cells": [
  {
   "cell_type": "markdown",
   "metadata": {},
   "source": [
    "# Benchmarks"
   ]
  },
  {
   "cell_type": "code",
   "execution_count": 1,
   "metadata": {},
   "outputs": [],
   "source": [
    "import matplotlib.pyplot as plt\n",
    "import sys, os, re\n",
    "import numpy as np"
   ]
  },
  {
   "cell_type": "markdown",
   "metadata": {},
   "source": [
    "### $$\\sum\\limits_{i<j}^\\texttt{N}\n",
    "\\left(C^\\text{Wigner}_\\Lambda+C^\\text{Bartlett}_\\Lambda\\hat{\\mathcal{O}}_\\text{Bartlett}\\right)\\cdot\n",
    "e^{-\\frac{\\Lambda^2}{4}\\left[\\vec{r}(i)-\\vec{r}(j)\\right]^2}+\n",
    "D_\\Lambda\\cdot\\sum\\limits_\\text{cyc.}\\sum\\limits_{i<j<k}\n",
    "e^{-\\frac{\\Lambda^2}{4}\\left[\\vec{r}(i)-\\vec{r}(j)\\right]^2}\n",
    "e^{-\\frac{\\Lambda^2}{4}\\left[\\vec{r}(i)-\\vec{r}(k)\\right]^2}$$"
   ]
  },
  {
   "cell_type": "markdown",
   "metadata": {},
   "source": [
    "$\\texttt{h2m}=\\frac{\\hbar^2c^2}{m_N}=\\frac{197.3161329\\,\\text{MeV}^2\\cdot\\text{fm}^2}{1634\\,\\text{MeV}}=23.83\\,\\text{MeV}\\cdot\\text{fm}^2$\n",
    "\n",
    "$\\Lambda=4\\,\\text{fm}^{-1}$\n",
    "\n",
    "$C^\\text{Wigner}_\\Lambda=-396.568\\,$MeV\n",
    "\n",
    "$C^\\text{Bartlett}_\\Lambda=-8.061\\,$MeV\n",
    "\n",
    "$D_\\Lambda=-8.061\\,$MeV"
   ]
  },
  {
   "cell_type": "code",
   "execution_count": 5,
   "metadata": {},
   "outputs": [
    {
     "name": "stdout",
     "output_type": "stream",
     "text": [
      "E(groundstate) = -19.3656 MeV\n"
     ]
    }
   ],
   "source": [
    "os.system('./svm.x tmp_pp > dump')\n",
    "outp = float([ line for line in open('./output/tmp_pp.txt')][-2].split('E=')[1])\n",
    "print('E(0) = %4.4f MeV'%outp)"
   ]
  },
  {
   "cell_type": "markdown",
   "metadata": {},
   "source": [
    "### $$\\omega\\sum_i^N\\left(x^2(i)+y^2(i)+z^2(i)\\right)$$"
   ]
  },
  {
   "cell_type": "markdown",
   "metadata": {},
   "source": [
    "### $$\\sum_i^Nq(i)\\left(x^2(i)+y^2(i)+z^2(i)\\right)$$"
   ]
  },
  {
   "cell_type": "markdown",
   "metadata": {},
   "source": [
    "### $$\\sum_i^Nq(i)\\left(x^2(i)+y^2(i)+\\epsilon z^2(i)\\right)$$"
   ]
  },
  {
   "cell_type": "markdown",
   "metadata": {},
   "source": [
    "### $$\\sum_i^Nq(i)\\sigma^z(i)$$"
   ]
  },
  {
   "cell_type": "code",
   "execution_count": null,
   "metadata": {},
   "outputs": [],
   "source": []
  }
 ],
 "metadata": {
  "kernelspec": {
   "display_name": "Python 3",
   "language": "python",
   "name": "python3"
  },
  "language_info": {
   "codemirror_mode": {
    "name": "ipython",
    "version": 2
   },
   "file_extension": ".py",
   "mimetype": "text/x-python",
   "name": "python",
   "nbconvert_exporter": "python",
   "pygments_lexer": "ipython2",
   "version": "2.7.15+"
  }
 },
 "nbformat": 4,
 "nbformat_minor": 2
}
