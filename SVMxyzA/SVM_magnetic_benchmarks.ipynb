{
 "cells": [
  {
   "cell_type": "markdown",
   "metadata": {},
   "source": [
    "# Benchmarks"
   ]
  },
  {
   "cell_type": "code",
   "execution_count": 14,
   "metadata": {},
   "outputs": [
    {
     "name": "stdout",
     "output_type": "stream",
     "text": [
      "('h2m   = ', 23.827207039541292)\n",
      "('2/h2m = ', 0.08393765986424663)\n"
     ]
    }
   ],
   "source": [
    "import matplotlib.pyplot as plt\n",
    "import sys, os, re, commands\n",
    "import numpy as np\n",
    "mN = 1634.0\n",
    "hbarc = 197.3161329\n",
    "print('h2m   = ',hbarc**2/mN)\n",
    "print('2/h2m = ',2*mN/hbarc**2)"
   ]
  },
  {
   "cell_type": "markdown",
   "metadata": {},
   "source": [
    "### $$\\sum\\limits_{i<j}^\\texttt{N}\n",
    "\\left(C^\\text{Wigner}_\\Lambda+C^\\text{Bartlett}_\\Lambda\\hat{\\mathcal{O}}_\\text{Bartlett}\\right)\\cdot\n",
    "e^{-\\frac{\\Lambda^2}{4}\\left[\\vec{r}(i)-\\vec{r}(j)\\right]^2}+\n",
    "D_\\Lambda\\cdot\\sum\\limits_\\text{cyc.}\\sum\\limits_{i<j<k}\n",
    "e^{-\\frac{\\Lambda^2}{4}\\left[\\vec{r}(i)-\\vec{r}(j)\\right]^2}\n",
    "e^{-\\frac{\\Lambda^2}{4}\\left[\\vec{r}(i)-\\vec{r}(k)\\right]^2}$$"
   ]
  },
  {
   "cell_type": "markdown",
   "metadata": {},
   "source": [
    "$\\texttt{h2m}=\\frac{\\hbar^2c^2}{m_N}=\\frac{197.3161329\\,\\text{MeV}^2\\cdot\\text{fm}^2}{1634\\,\\text{MeV}}=23.83\\,\\text{MeV}\\cdot\\text{fm}^2$\n",
    "\n",
    "$\\Lambda=4\\,\\text{fm}^{-1}$\n",
    "\n",
    "$C^\\text{Wigner}_\\Lambda=-396.568\\,$MeV\n",
    "\n",
    "$C^\\text{Bartlett}_\\Lambda=-8.061\\,$MeV\n",
    "\n",
    "$D_\\Lambda=-8.061\\,$MeV"
   ]
  },
  {
   "cell_type": "code",
   "execution_count": 8,
   "metadata": {},
   "outputs": [
    {
     "name": "stdout",
     "output_type": "stream",
     "text": [
      "E(0,S=1) = -19.3656 MeV\n",
      "E(0,S=0) = -15.7653 MeV\n"
     ]
    }
   ],
   "source": [
    "status, output = commands.getstatusoutput('./svm.x np_triplet_4_806')\n",
    "outp = float([ line for line in open('./output/np_triplet_4_806.txt')][-2].split('E=')[1])\n",
    "print('E(0,S=1) = %4.4f MeV'%outp)\n",
    "status, output = commands.getstatusoutput('./svm.x np_singlet_4_806')\n",
    "outp = float([ line for line in open('./output/np_singlet_4_806.txt')][-2].split('E=')[1])\n",
    "print('E(0,S=0) = %4.4f MeV'%outp)"
   ]
  },
  {
   "cell_type": "markdown",
   "metadata": {},
   "source": [
    "### $$\\nu\\sum_i^N\\left(x^2(i)+y^2(i)+z^2(i)\\right)$$"
   ]
  },
  {
   "cell_type": "code",
   "execution_count": null,
   "metadata": {},
   "outputs": [],
   "source": []
  },
  {
   "cell_type": "markdown",
   "metadata": {},
   "source": [
    "$\\frac{\\vec{p}^2}{2m}+\\frac{m\\omega}{2}\\vec{r}^2\\;\\to\\;E_n=\\hbar\\omega\\left(n+\\frac{3}{2}\\right)$\n",
    "and hence we must obtain for the *__ground state__* of $N$ mass $m_N$ particles:\n",
    "$$E_0:=\\sum_i^N\\hbar\\sqrt{2\\nu m_N^{-1}}\\left(n+\\frac{3}{2}\\right)=3N\\hbar\\sqrt{\\frac{\\nu}{2m_N}}$$\n",
    "In the *__spectrum__*, the first excited state's energy is \n",
    "$$\\Delta E:=\\hbar\\sqrt{2\\nu m_N^{-1}}$$\n",
    "above the ground state.\n",
    "For $m(\\pi)=806\\,$MeV$\\,\\to m_N=1632\\,$MeV, and $\\hbar c=197.3161329\\,$MeVfm,\n",
    "$$E_0\\left(N=2,\\nu=\\frac{2m_N}{(\\hbar c)^2}=0.0839376\\,\\text{MeVfm}\\right)=6\\,\\text{MeV}$$and\n",
    "$$\\Delta E(.,.)=1\\,\\text{MeV}$$"
   ]
  },
  {
   "cell_type": "code",
   "execution_count": 8,
   "metadata": {},
   "outputs": [
    {
     "name": "stdout",
     "output_type": "stream",
     "text": [
      "E(0,S=1) = -19.3656 MeV\n",
      "E(0,S=0) = -15.7653 MeV\n"
     ]
    }
   ],
   "source": [
    "status, output = commands.getstatusoutput('./svm.x np_3dosci_806')\n",
    "outp = float([ line for line in open('./output/np_3dosci_806.txt')][-2].split('E=')[1])\n",
    "print('E(0,S=1) = %4.4f MeV'%outp)"
   ]
  },
  {
   "cell_type": "markdown",
   "metadata": {},
   "source": [
    "### $$\\sum_i^Nq(i)\\left(x^2(i)+y^2(i)+z^2(i)\\right)$$"
   ]
  },
  {
   "cell_type": "markdown",
   "metadata": {},
   "source": [
    "*ECCE*\n"
   ]
  },
  {
   "cell_type": "code",
   "execution_count": 9,
   "metadata": {},
   "outputs": [],
   "source": [
    "#status, output = commands.getstatusoutput('./svm.x np_triplet_4_806')\n",
    "#outp = float([ line for line in open('./output/np_triplet_4_806.txt')][-2].split('E=')[1])\n",
    "#print('E(0,S=1) = %4.4f MeV'%outp)"
   ]
  },
  {
   "cell_type": "markdown",
   "metadata": {},
   "source": [
    "### $$\\sum_i^Nq(i)\\left(x^2(i)+y^2(i)+\\epsilon z^2(i)\\right)$$"
   ]
  },
  {
   "cell_type": "markdown",
   "metadata": {},
   "source": [
    "*ECCE*"
   ]
  },
  {
   "cell_type": "code",
   "execution_count": 10,
   "metadata": {},
   "outputs": [],
   "source": [
    "#status, output = commands.getstatusoutput('./svm.x np_triplet_4_806')\n",
    "#outp = float([ line for line in open('./output/np_triplet_4_806.txt')][-2].split('E=')[1])\n",
    "#print('E(0,S=1) = %4.4f MeV'%outp)"
   ]
  },
  {
   "cell_type": "markdown",
   "metadata": {},
   "source": [
    "### $$\\sum_i^Nq(i)\\sigma^z(i)$$"
   ]
  },
  {
   "cell_type": "markdown",
   "metadata": {},
   "source": [
    "*ECCE*"
   ]
  },
  {
   "cell_type": "code",
   "execution_count": 11,
   "metadata": {},
   "outputs": [],
   "source": [
    "#status, output = commands.getstatusoutput('./svm.x np_triplet_4_806')\n",
    "#outp = float([ line for line in open('./output/np_triplet_4_806.txt')][-2].split('E=')[1])\n",
    "#print('E(0,S=1) = %4.4f MeV'%outp)"
   ]
  },
  {
   "cell_type": "code",
   "execution_count": null,
   "metadata": {},
   "outputs": [],
   "source": []
  }
 ],
 "metadata": {
  "kernelspec": {
   "display_name": "Python 3",
   "language": "python",
   "name": "python3"
  },
  "language_info": {
   "codemirror_mode": {
    "name": "ipython",
    "version": 2
   },
   "file_extension": ".py",
   "mimetype": "text/x-python",
   "name": "python",
   "nbconvert_exporter": "python",
   "pygments_lexer": "ipython2",
   "version": "2.7.15+"
  }
 },
 "nbformat": 4,
 "nbformat_minor": 2
}
